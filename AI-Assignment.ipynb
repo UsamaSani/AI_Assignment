{
 "cells": [
  {
   "cell_type": "markdown",
   "id": "595a8589-30a0-46fb-b14b-8e0b6f1eb14d",
   "metadata": {},
   "source": [
    "<h1>Strings In Python </h1>"
   ]
  },
  {
   "cell_type": "code",
   "execution_count": 5,
   "id": "ec11a60c-e6f3-40b5-a877-2d2959f65353",
   "metadata": {},
   "outputs": [
    {
     "name": "stdout",
     "output_type": "stream",
     "text": [
      "Hello, world!\n",
      "Hello, world!\n",
      "Hello, world!\n",
      "H\n",
      "Hello\n",
      "Hello world\n",
      "5\n",
      "hello\n",
      "HELLO\n"
     ]
    }
   ],
   "source": [
    "# Creating Strings:\n",
    "single_quoted = 'Hello, world!'\n",
    "double_quoted = \"Hello, world!\"\n",
    "triple_quoted = '''Hello, world!'''\n",
    "print(single_quoted)\n",
    "print(double_quoted)\n",
    "print(triple_quoted)\n",
    "\n",
    "# Accessing Characters in Strings:\n",
    "s = \"Hello\"\n",
    "print(s[0])\n",
    "\n",
    "# String Slicing:\n",
    "s = \"Hello, world!\"\n",
    "print(s[0:5]) \n",
    "\n",
    "# String Concatenation:\n",
    "s1 = \"Hello\"\n",
    "s2 = \"world\"\n",
    "s3 = s1 + \" \" + s2\n",
    "print(s3)  \n",
    "\n",
    "# Strings Method\n",
    "\n",
    "print(len(s1))\n",
    "print(s1.lower())\n",
    "print(s1.upper())\n",
    "\n"
   ]
  },
  {
   "cell_type": "markdown",
   "id": "cbd9cfce-ce46-424b-a607-657c4671d176",
   "metadata": {},
   "source": [
    "<h1>Data Types</h1>"
   ]
  },
  {
   "cell_type": "code",
   "execution_count": 9,
   "id": "212133cf-43e3-41d9-bfc5-e761d9c438f2",
   "metadata": {},
   "outputs": [
    {
     "name": "stdout",
     "output_type": "stream",
     "text": [
      "42\n",
      "3.14\n",
      "(2+3j)\n",
      "[1, 2, 3, 4, 5]\n",
      "(1, 2, 3, 4, 5)\n",
      "[0, 1, 2, 3, 4, 5, 6, 7, 8, 9]\n",
      "hello world\n",
      "{'name': 'Alice', 'age': 30}\n",
      "{1, 2, 3, 4, 5}\n",
      "True\n",
      "False\n"
     ]
    }
   ],
   "source": [
    "# Numeric Types:\n",
    "integer = 42\n",
    "Float = 3.14\n",
    "complex_num = 2 + 3j\n",
    "print(integer)\n",
    "print(Float)\n",
    "print(complex_num)\n",
    "\n",
    "#Sequence Types:\n",
    "List = [1, 2, 3, 4, 5]\n",
    "Tuple = (1, 2, 3, 4, 5)\n",
    "Range = range(0, 10)\n",
    "print(List)\n",
    "print(Tuple)\n",
    "print(list(Range))\n",
    "\n",
    "# text type\n",
    "String = \"hello world\"\n",
    "print(String)\n",
    "\n",
    "#mapping type\n",
    "dictionary = {'name': 'Alice', 'age': 30}\n",
    "print(dictionary)\n",
    "\n",
    "#Set Type:\n",
    "Set = {1, 2, 3, 4, 5}\n",
    "print(Set)\n",
    "\n",
    "#Boolean type\n",
    "Booleant = True\n",
    "Booleanf = False\n",
    "print(Booleant)\n",
    "print(Booleanf)\n"
   ]
  },
  {
   "cell_type": "markdown",
   "id": "0117efb5-3bb7-414c-92ef-428cf2f02c22",
   "metadata": {},
   "source": [
    "<h1>Loops</h1>"
   ]
  },
  {
   "cell_type": "code",
   "execution_count": 10,
   "id": "3f6856b7-e1a4-45d2-bada-0b49427b08b9",
   "metadata": {},
   "outputs": [
    {
     "name": "stdout",
     "output_type": "stream",
     "text": [
      "1\n",
      "2\n",
      "3\n",
      "4\n",
      "5\n",
      "H\n",
      "e\n",
      "l\n",
      "l\n",
      "o\n",
      "0\n",
      "1\n",
      "2\n",
      "3\n",
      "4\n",
      "0\n",
      "1\n",
      "2\n",
      "3\n",
      "4\n",
      "0\n",
      "1\n",
      "2\n",
      "3\n",
      "4\n",
      "0 0\n",
      "0 1\n",
      "1 0\n",
      "1 1\n",
      "2 0\n",
      "2 1\n"
     ]
    }
   ],
   "source": [
    "#ForLoop\n",
    "\n",
    "my_list = [1, 2, 3, 4, 5]\n",
    "for item in my_list:\n",
    "    print(item)\n",
    "\n",
    "my_string = \"Hello\"\n",
    "for char in my_string:\n",
    "    print(char)\n",
    "\n",
    "for i in range(5):\n",
    "    print(i)\n",
    "\n",
    "#While Loop\n",
    "\n",
    "num = 0\n",
    "while num < 5:\n",
    "    print(num)\n",
    "    num += 1\n",
    "\n",
    "num = 0\n",
    "while True:\n",
    "    print(num)\n",
    "    num += 1\n",
    "    if num >= 5:\n",
    "        break\n",
    "\n",
    "\n",
    "\n",
    "# Nested loops\n",
    "for i in range(3):\n",
    "    for j in range(2):\n",
    "        print(i, j)\n"
   ]
  },
  {
   "cell_type": "markdown",
   "id": "b53b100a-5fde-42af-ba7d-7a6e118116de",
   "metadata": {},
   "source": [
    "<h1>Conditional Statement</h1>"
   ]
  },
  {
   "cell_type": "code",
   "execution_count": 11,
   "id": "e35bdf70-d6f8-4a83-982a-dc3bdf4bb873",
   "metadata": {},
   "outputs": [
    {
     "name": "stdout",
     "output_type": "stream",
     "text": [
      "x is positive\n",
      "x is odd\n",
      "x is positive\n",
      "x is positive and odd\n"
     ]
    }
   ],
   "source": [
    "#If Statement:\n",
    "x = 5\n",
    "if x > 0:\n",
    "    print(\"x is positive\")\n",
    "\n",
    "# If-else Statement:\n",
    "x = 5\n",
    "if x % 2 == 0:\n",
    "    print(\"x is even\")\n",
    "else:\n",
    "    print(\"x is odd\")\n",
    "\n",
    "# If-elif-else Statement:\n",
    "x = 5\n",
    "if x > 0:\n",
    "    print(\"x is positive\")\n",
    "elif x < 0:\n",
    "    print(\"x is negative\")\n",
    "else:\n",
    "    print(\"x is zero\")\n",
    "\n",
    "# Nested If Statement:\n",
    "x = 5\n",
    "if x > 0:\n",
    "    if x % 2 == 0:\n",
    "        print(\"x is positive and even\")\n",
    "    else:\n",
    "        print(\"x is positive and odd\")\n",
    "else:\n",
    "    print(\"x is not positive\")\n"
   ]
  },
  {
   "cell_type": "markdown",
   "id": "5aafb113-b939-41a1-b534-085b99f33e70",
   "metadata": {},
   "source": [
    "<h1>Functions</h1>"
   ]
  },
  {
   "cell_type": "code",
   "execution_count": 12,
   "id": "2bafcf94-3973-48c6-b7bd-55ecf29babfd",
   "metadata": {},
   "outputs": [
    {
     "name": "stdout",
     "output_type": "stream",
     "text": [
      "Hello, world!\n",
      "Hello, Alice\n",
      "Hello, world\n",
      "Hello, Alice\n",
      "8\n",
      "120\n"
     ]
    }
   ],
   "source": [
    "# Function without Parameters:\n",
    "def greet():\n",
    "    print(\"Hello, world!\")\n",
    "\n",
    "greet()  \n",
    "\n",
    "# Function with Parameters:\n",
    "def greet(name):\n",
    "    print(\"Hello,\", name)\n",
    "\n",
    "greet(\"Alice\")\n",
    "\n",
    "# Function with Default Parameters:\n",
    "def greet(name=\"world\"):\n",
    "    print(\"Hello,\", name)\n",
    "\n",
    "greet()  \n",
    "greet(\"Alice\") \n",
    "\n",
    "#Function with Return Value:\n",
    "def add(a, b):\n",
    "    return a + b\n",
    "\n",
    "result = add(3, 5)\n",
    "print(result) \n",
    "\n",
    "#Recursive Function:\n",
    "def factorial(n):\n",
    "    if n == 0:\n",
    "        return 1\n",
    "    else:\n",
    "        return n * factorial(n - 1)\n",
    "\n",
    "print(factorial(5))\n"
   ]
  },
  {
   "cell_type": "markdown",
   "id": "0c8796e4-2a20-4b17-bc51-e9953385623c",
   "metadata": {},
   "source": [
    "<h1>Classes</h1>"
   ]
  },
  {
   "cell_type": "code",
   "execution_count": 13,
   "id": "83a82872-1dcb-4ea7-aa72-c58e7acc7869",
   "metadata": {},
   "outputs": [
    {
     "name": "stdout",
     "output_type": "stream",
     "text": [
      "Hello, Alice\n",
      "Buddy\n",
      "Molly\n",
      "Canis\n",
      "Canis\n",
      "42\n"
     ]
    }
   ],
   "source": [
    "# Simple Class:\n",
    "class MyClass:\n",
    "    def __init__(self, name):\n",
    "        self.name = name\n",
    "\n",
    "    def greet(self):\n",
    "        print(\"Hello,\", self.name)\n",
    "\n",
    "obj = MyClass(\"Alice\")\n",
    "obj.greet() \n",
    "\n",
    "# Class with Class Variable and Instance Variable:\n",
    "class Dog:\n",
    "    species = \"Canis\"\n",
    "\n",
    "    def __init__(self, name):\n",
    "        self.name = name\n",
    "\n",
    "dog1 = Dog(\"Buddy\")\n",
    "dog2 = Dog(\"Molly\")\n",
    "\n",
    "print(dog1.name)  \n",
    "print(dog2.name) \n",
    "print(dog1.species) \n",
    "print(dog2.species) \n",
    "\n",
    "# Class with Private Members:\n",
    "class MyClass:\n",
    "    def __init__(self):\n",
    "        self.__private_var = 42\n",
    "\n",
    "    def get_private_var(self):\n",
    "        return self.__private_var\n",
    "\n",
    "obj = MyClass()\n",
    "print(obj.get_private_var())\n",
    "\n"
   ]
  },
  {
   "cell_type": "markdown",
   "id": "2be8c73a-fa30-49fe-8b4b-321944dae79a",
   "metadata": {},
   "source": [
    "<h1>Libraries Numpy & Pandas</h1>"
   ]
  },
  {
   "cell_type": "markdown",
   "id": "9f7d1cf9-aaad-4e0c-9fef-3eb2e701b699",
   "metadata": {},
   "source": [
    "**What’s the difference between a Python list and a NumPy array?**"
   ]
  },
  {
   "cell_type": "markdown",
   "id": "b1809cf2-f524-410b-9e29-b46a68df6aff",
   "metadata": {},
   "source": [
    "NumPy gives you an enormous range of fast and efficient ways of creating arrays and manipulating numerical data inside them. While a Python list can contain different data types within a single list, all of the elements in a NumPy array should be homogeneous. The mathematical operations that are meant to be performed on arrays would be extremely inefficient if the arrays weren’t homogeneous."
   ]
  },
  {
   "cell_type": "markdown",
   "id": "9f17fc95-d2f3-42a0-aa09-24e744802de1",
   "metadata": {},
   "source": [
    "**Why use NumPy?**"
   ]
  },
  {
   "cell_type": "markdown",
   "id": "25e6e191-57d1-4949-8bf4-9463d38d3c4c",
   "metadata": {},
   "source": [
    "NumPy arrays are faster and more compact than Python lists. An array consumes less memory and is convenient to use. NumPy uses much less memory to store data and it provides a mechanism of specifying the data types. This allows the code to be optimized even further."
   ]
  },
  {
   "cell_type": "code",
   "execution_count": 27,
   "id": "e25f7823-21d8-44d5-8a50-3e5610546fc3",
   "metadata": {},
   "outputs": [
    {
     "name": "stdout",
     "output_type": "stream",
     "text": [
      "[3 5 1 4 2]\n",
      "[0. 0.]\n",
      "[1. 1.]\n",
      "[ 3.14 42.  ]\n",
      "[1 2 3 4 5]\n",
      "[1 2 3 4 5 6 7 8]\n"
     ]
    }
   ],
   "source": [
    "import numpy as np\n",
    "arr1 = np.array([3, 5, 1, 4, 2])\n",
    "print(arr1)\n",
    "\n",
    "# Functions in NUmpy\n",
    "arr = np.zeros(2)\n",
    "print(arr)\n",
    "arr = np.ones(2)\n",
    "print(arr)\n",
    "empty_arr = np.empty(2)\n",
    "empty_arr[0] = 3.14\n",
    "empty_arr[1] = 42.0\n",
    "print(empty_arr)\n",
    "print(np.sort(arr1))\n",
    "a = np.array([1, 2, 3, 4])\n",
    "b = np.array([5, 6, 7, 8])\n",
    "print(np.concatenate((a, b)))\n"
   ]
  },
  {
   "cell_type": "markdown",
   "id": "5bec1d65-bfe6-4f07-844b-e8fab71a9a34",
   "metadata": {},
   "source": [
    "**What kind of data does pandas handle?**"
   ]
  },
  {
   "cell_type": "markdown",
   "id": "0f21dc30-9bbc-4a9a-ae33-d0c28bd570cf",
   "metadata": {},
   "source": [
    "When working with tabular data, such as data stored in spreadsheets or databases, pandas is the right tool for you. pandas will help you to explore, clean, and process your data. In pandas, a data table is called a DataFrame."
   ]
  },
  {
   "cell_type": "markdown",
   "id": "70e12567-fa4f-449c-a397-e90e97b6cac7",
   "metadata": {},
   "source": [
    "**How do I read and write tabular data?**"
   ]
  },
  {
   "cell_type": "markdown",
   "id": "edd68584-5f38-4ef0-9a00-1b24cd5b98fa",
   "metadata": {},
   "source": [
    "pandas supports the integration with many file formats or data sources out of the box (csv, excel, sql, json, parquet,…). Importing data from each of these data sources is provided by function with the prefix read_*. Similarly, the to_* methods are used to store data."
   ]
  },
  {
   "cell_type": "markdown",
   "id": "c6cf9444-a3c9-4f15-a72a-65c1ac97156c",
   "metadata": {},
   "source": [
    "**Why Use Pandas?**"
   ]
  },
  {
   "cell_type": "markdown",
   "id": "116cc74c-1ef2-471f-ba5a-02d4e7427c06",
   "metadata": {},
   "source": [
    "Pandas is used for data manipulation and analysis, offering powerful data structures and tools for working with structured data.\n",
    "\n",
    "**1.DataFrame:** Pandas provides a DataFrame object, which is a 2-dimensional labeled data structure with columns of potentially different types. It's similar to a spreadsheet or SQL table, making it easy to handle tabular data.\n",
    "\n",
    "**2.Data Cleaning:** Pandas offers functions and methods for data cleaning tasks such as handling missing data, removing duplicates, and transforming data into the desired format.\n",
    "\n",
    "**3.Data Manipulation:** It allows for easy manipulation of data, including filtering, selecting, grouping, aggregating, merging, and reshaping data.\n",
    "\n",
    "**4.Data Analysis:** Pandas provides statistical functions for data analysis, including descriptive statistics, correlation analysis, and time-series analysis.\n",
    "\n",
    "**5.Integration with Other Libraries:** Pandas integrates well with other Python libraries such as NumPy, Matplotlib, and scikit-learn, providing a powerful ecosystem for data analysis and machine learning.\n",
    "\n",
    "Overall, Pandas simplifies the process of working with structured data in Python and is widely used in data science, machine learning, and data analysis projects."
   ]
  },
  {
   "cell_type": "code",
   "execution_count": 35,
   "id": "4da477d6-8328-4974-91dc-c09dbb19ee81",
   "metadata": {},
   "outputs": [
    {
     "name": "stdout",
     "output_type": "stream",
     "text": [
      "           Name  Age      city\n",
      "0    Babar Azam   30    lahore\n",
      "1       Shahdab   30    lahore\n",
      "2  Shaheen Shah   25  peshawar\n"
     ]
    }
   ],
   "source": [
    "import pandas as pd\n",
    "# Creating a DataFrame:\n",
    "data = {'Name': ['Babar Azam', 'Shahdab', 'Shaheen Shah'],\n",
    "        'Age': [30, 30, 25],\n",
    "        \"city\": ['lahore','lahore','peshawar']}\n",
    "df = pd.DataFrame(data)\n",
    "print(df)\n",
    "df.to_csv(\"CricketersInfo.csv\")"
   ]
  },
  {
   "cell_type": "markdown",
   "id": "b341e337-a16b-4199-a590-e74b57b299f5",
   "metadata": {},
   "source": [
    "<h1>MANAGING CYBER SECURITY SALARIES DATASET USING PANDAS</h1>"
   ]
  },
  {
   "cell_type": "code",
   "execution_count": 37,
   "id": "1aa62889-2bec-45a4-a077-d7212e8d29db",
   "metadata": {},
   "outputs": [
    {
     "name": "stdout",
     "output_type": "stream",
     "text": [
      "   work_year experience_level employment_type               job_title  salary  \\\n",
      "0       2022               EN              FT   Cyber Program Manager   63000   \n",
      "1       2022               MI              FT        Security Analyst   95000   \n",
      "2       2022               MI              FT        Security Analyst   70000   \n",
      "3       2022               MI              FT     IT Security Analyst  250000   \n",
      "4       2022               EN              CT  Cyber Security Analyst  120000   \n",
      "\n",
      "  salary_currency  salary_in_usd employee_residence  remote_ratio  \\\n",
      "0             USD          63000                 US            50   \n",
      "1             USD          95000                 US             0   \n",
      "2             USD          70000                 US             0   \n",
      "3             BRL          48853                 BR            50   \n",
      "4             USD         120000                 BW           100   \n",
      "\n",
      "  company_location company_size  \n",
      "0               US            S  \n",
      "1               US            M  \n",
      "2               US            M  \n",
      "3               BR            L  \n",
      "4               BW            S  \n"
     ]
    }
   ],
   "source": [
    "# Reading Data from CSV File:\n",
    "df = pd.read_csv('salaries_cyber.csv')\n",
    "print(df.head())"
   ]
  },
  {
   "cell_type": "code",
   "execution_count": 38,
   "id": "93bc0f17-061f-4598-b5b5-6aac99ad75cc",
   "metadata": {},
   "outputs": [
    {
     "name": "stdout",
     "output_type": "stream",
     "text": [
      "      work_year experience_level employment_type  \\\n",
      "1242       2020               MI              FT   \n",
      "1243       2021               SE              FT   \n",
      "1244       2021               SE              FT   \n",
      "1245       2021               MI              FT   \n",
      "1246       2021               MI              FT   \n",
      "\n",
      "                         job_title  salary salary_currency  salary_in_usd  \\\n",
      "1242        Cyber Security Analyst  140000             AUD          96422   \n",
      "1243  Information Security Manager   60000             GBP          82528   \n",
      "1244  Penetration Testing Engineer  126000             USD         126000   \n",
      "1245  Information Security Analyst   42000             GBP          57769   \n",
      "1246   Threat Intelligence Analyst   66310             USD          66310   \n",
      "\n",
      "     employee_residence  remote_ratio company_location company_size  \n",
      "1242                 AU            50               AU            M  \n",
      "1243                 GB            50               GB            L  \n",
      "1244                 US           100               US            L  \n",
      "1245                 GB           100               GB            L  \n",
      "1246                 US             0               US            L  \n"
     ]
    }
   ],
   "source": [
    "print(df.tail())\n"
   ]
  },
  {
   "cell_type": "code",
   "execution_count": 39,
   "id": "d5e3567b-a314-4f4b-8990-ca0d556ceb6a",
   "metadata": {},
   "outputs": [
    {
     "name": "stdout",
     "output_type": "stream",
     "text": [
      "(1247, 11)\n",
      "Index(['work_year', 'experience_level', 'employment_type', 'job_title',\n",
      "       'salary', 'salary_currency', 'salary_in_usd', 'employee_residence',\n",
      "       'remote_ratio', 'company_location', 'company_size'],\n",
      "      dtype='object')\n",
      "         work_year        salary  salary_in_usd  remote_ratio\n",
      "count  1247.000000  1.247000e+03    1247.000000   1247.000000\n",
      "mean   2021.316760  5.608525e+05  120278.218925     71.491580\n",
      "std       0.715501  1.415944e+07   70291.394942     39.346851\n",
      "min    2020.000000  1.740000e+03    2000.000000      0.000000\n",
      "25%    2021.000000  7.975450e+04   74594.500000     50.000000\n",
      "50%    2021.000000  1.200000e+05  110000.000000    100.000000\n",
      "75%    2022.000000  1.600800e+05  150000.000000    100.000000\n",
      "max    2022.000000  5.000000e+08  910991.000000    100.000000\n",
      "0              Cyber Program Manager\n",
      "1                   Security Analyst\n",
      "2                   Security Analyst\n",
      "3                IT Security Analyst\n",
      "4             Cyber Security Analyst\n",
      "                    ...             \n",
      "1242          Cyber Security Analyst\n",
      "1243    Information Security Manager\n",
      "1244    Penetration Testing Engineer\n",
      "1245    Information Security Analyst\n",
      "1246     Threat Intelligence Analyst\n",
      "Name: job_title, Length: 1247, dtype: object\n"
     ]
    }
   ],
   "source": [
    "# Basic DataFrame Operations:\n",
    "print(df.shape)\n",
    "print(df.columns)\n",
    "print(df.describe())\n",
    "print(df['job_title'])"
   ]
  },
  {
   "cell_type": "markdown",
   "id": "e4e38e44-7e62-40a0-b28d-4e25e0053c6d",
   "metadata": {},
   "source": [
    "<h1>Global Cybersecurity: Geospacial EDA and Insights</h1>"
   ]
  },
  {
   "cell_type": "code",
   "execution_count": 40,
   "id": "5b204188-774d-464e-9bd1-f172f3cde790",
   "metadata": {},
   "outputs": [
    {
     "name": "stdout",
     "output_type": "stream",
     "text": [
      "       Country        Region    CEI    GCI   NCSI    DDL\n",
      "0  Afghanistan  Asia-Pasific  1.000   5.20  11.69  19.50\n",
      "1      Albania        Europe  0.566  64.32  62.34  48.74\n",
      "2      Algeria        Africa  0.721  33.95  33.77  42.81\n",
      "3      Andorra        Europe    NaN  26.38    NaN    NaN\n",
      "4       Angola        Africa    NaN  12.99   9.09  22.69\n"
     ]
    }
   ],
   "source": [
    "# Reading Data from CSV File:\n",
    "df1 = pd.read_csv('Cyber_security.csv')\n",
    "print(df1.head())"
   ]
  },
  {
   "cell_type": "code",
   "execution_count": 41,
   "id": "ea7073ea-d8d9-4dc1-8ca1-768a0e8d1f14",
   "metadata": {},
   "outputs": [
    {
     "name": "stdout",
     "output_type": "stream",
     "text": [
      "       Country        Region    CEI    GCI   NCSI    DDL\n",
      "187  Venezuela        Africa  0.807  27.06  28.57  43.14\n",
      "188    Vietnam  Asia-Pasific    NaN  94.59  36.36  47.69\n",
      "189      Yemen  Asia-Pasific    NaN    NaN   7.79    NaN\n",
      "190     Zambia        Africa  0.745  68.88  55.84  29.66\n",
      "191   Zimbabwe        Africa  0.724  36.49  15.58  28.97\n"
     ]
    }
   ],
   "source": [
    "print(df1.tail())"
   ]
  },
  {
   "cell_type": "code",
   "execution_count": 42,
   "id": "abc0d7ec-67a0-4351-91c4-404ef1ee2318",
   "metadata": {},
   "outputs": [
    {
     "name": "stdout",
     "output_type": "stream",
     "text": [
      "(192, 6)\n",
      "Index(['Country', 'Region', 'CEI', 'GCI', 'NCSI', 'DDL'], dtype='object')\n",
      "              CEI         GCI        NCSI         DDL\n",
      "count  108.000000  190.000000  167.000000  152.000000\n",
      "mean     0.471861   52.769526   43.306587   51.707829\n",
      "std      0.217246   34.884013   26.820907   18.283847\n",
      "min      0.110000    1.350000    1.300000   11.300000\n",
      "25%      0.279500   18.257500   19.480000   36.532500\n",
      "50%      0.483000   53.145000   40.260000   51.790000\n",
      "75%      0.624250   89.187500   64.940000   65.237500\n",
      "max      1.000000  100.000000   96.100000   82.930000\n",
      "0      Afghanistan\n",
      "1          Albania\n",
      "2          Algeria\n",
      "3          Andorra\n",
      "4           Angola\n",
      "          ...     \n",
      "187      Venezuela\n",
      "188        Vietnam\n",
      "189          Yemen\n",
      "190         Zambia\n",
      "191       Zimbabwe\n",
      "Name: Country, Length: 192, dtype: object\n"
     ]
    }
   ],
   "source": [
    "# Basic DataFrame Operations:\n",
    "print(df1.shape)\n",
    "print(df1.columns)\n",
    "print(df1.describe())\n",
    "print(df1['Country'])"
   ]
  },
  {
   "cell_type": "code",
   "execution_count": null,
   "id": "e5455356-a5df-4615-9406-ff8cdb9a0514",
   "metadata": {},
   "outputs": [],
   "source": []
  }
 ],
 "metadata": {
  "kernelspec": {
   "display_name": "Python 3 (ipykernel)",
   "language": "python",
   "name": "python3"
  },
  "language_info": {
   "codemirror_mode": {
    "name": "ipython",
    "version": 3
   },
   "file_extension": ".py",
   "mimetype": "text/x-python",
   "name": "python",
   "nbconvert_exporter": "python",
   "pygments_lexer": "ipython3",
   "version": "3.12.2"
  }
 },
 "nbformat": 4,
 "nbformat_minor": 5
}
